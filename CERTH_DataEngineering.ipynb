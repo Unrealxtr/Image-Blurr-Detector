{
 "cells": [
  {
   "cell_type": "code",
   "execution_count": 16,
   "metadata": {},
   "outputs": [],
   "source": [
    "import numpy as np \n",
    "from scipy.ndimage import variance\n",
    "from skimage import io\n",
    "from skimage.color import rgb2gray\n",
    "from skimage.filters import laplace\n",
    "from skimage.transform import resize\n",
    "import os\n",
    "from scipy import ndimage, misc\n",
    "import matplotlib.pyplot as plt\n",
    "import cv2\n",
    "import pandas as pd\n",
    "import glob"
   ]
  },
  {
   "cell_type": "code",
   "execution_count": 3,
   "metadata": {},
   "outputs": [],
   "source": [
    "from PIL import Image \n",
    "from PIL import ImageFilter"
   ]
  },
  {
   "cell_type": "markdown",
   "metadata": {},
   "source": [
    "Opening a dummy empty excel file with the colunm names of the features to be extarcted.<br>\n",
    "The excel file was created manually."
   ]
  },
  {
   "cell_type": "code",
   "execution_count": 113,
   "metadata": {},
   "outputs": [],
   "source": [
    "data=pd.read_excel(r\"C:\\CERTH\\TrainingSet\\TrainData.xlsx\")"
   ]
  },
  {
   "cell_type": "code",
   "execution_count": 143,
   "metadata": {},
   "outputs": [
    {
     "data": {
      "text/plain": [
       "<bound method DataFrame.info of Empty DataFrame\n",
       "Columns: [Image , Variance, Amax]\n",
       "Index: []>"
      ]
     },
     "execution_count": 143,
     "metadata": {},
     "output_type": "execute_result"
    }
   ],
   "source": [
    "data.info"
   ]
  },
  {
   "cell_type": "code",
   "execution_count": 159,
   "metadata": {},
   "outputs": [],
   "source": [
    "data2=data.copy()"
   ]
  },
  {
   "cell_type": "code",
   "execution_count": 161,
   "metadata": {},
   "outputs": [
    {
     "data": {
      "text/plain": [
       "<bound method DataFrame.info of Empty DataFrame\n",
       "Columns: [Image , Variance, Amax]\n",
       "Index: []>"
      ]
     },
     "execution_count": 161,
     "metadata": {},
     "output_type": "execute_result"
    }
   ],
   "source": [
    "data2.info"
   ]
  },
  {
   "cell_type": "markdown",
   "metadata": {},
   "source": [
    "The following code block is used to extract Laplacian features vraiance and amax and is stored in a dataframe, later to be converted to a CSV.<br>\n",
    "The same code block is used for all the image folders, with path manipulation for respective folders."
   ]
  },
  {
   "cell_type": "code",
   "execution_count": 162,
   "metadata": {},
   "outputs": [],
   "source": [
    "inPath =\"C:\\\\CERTH\\\\EvaluationSet\\\\DigitalBlurSet\"\n",
    "for imagePath in os.listdir(inPath): \n",
    "    inputPath = os.path.join(inPath, imagePath) \n",
    "    img = Image.open(inputPath)  \n",
    "    edge_laplace = laplace(img, ksize=3)\n",
    "    var=variance(edge_laplace)\n",
    "    amx=np.amax(edge_laplace)\n",
    "    new_row = {'Image':imagePath, 'Variance':var, 'Amax':amx}\n",
    "    data1= data1.append(new_row, ignore_index=True)"
   ]
  },
  {
   "cell_type": "markdown",
   "metadata": {},
   "source": [
    "The following code block is used to create a excel file encompassing the image features"
   ]
  },
  {
   "cell_type": "code",
   "execution_count": 167,
   "metadata": {},
   "outputs": [],
   "source": [
    "data1.to_excel('TestNatural.xlsx')"
   ]
  },
  {
   "cell_type": "code",
   "execution_count": 58,
   "metadata": {},
   "outputs": [
    {
     "data": {
      "text/html": [
       "<div>\n",
       "<style scoped>\n",
       "    .dataframe tbody tr th:only-of-type {\n",
       "        vertical-align: middle;\n",
       "    }\n",
       "\n",
       "    .dataframe tbody tr th {\n",
       "        vertical-align: top;\n",
       "    }\n",
       "\n",
       "    .dataframe thead th {\n",
       "        text-align: right;\n",
       "    }\n",
       "</style>\n",
       "<table border=\"1\" class=\"dataframe\">\n",
       "  <thead>\n",
       "    <tr style=\"text-align: right;\">\n",
       "      <th></th>\n",
       "      <th>Image</th>\n",
       "      <th>Variance</th>\n",
       "      <th>Amax</th>\n",
       "      <th>Image</th>\n",
       "    </tr>\n",
       "  </thead>\n",
       "  <tbody>\n",
       "    <tr>\n",
       "      <th>0</th>\n",
       "      <td>NaN</td>\n",
       "      <td>0.015494</td>\n",
       "      <td>1.294118</td>\n",
       "      <td>100_1822.jpg</td>\n",
       "    </tr>\n",
       "    <tr>\n",
       "      <th>1</th>\n",
       "      <td>NaN</td>\n",
       "      <td>0.022073</td>\n",
       "      <td>1.352941</td>\n",
       "      <td>100_1830.jpg</td>\n",
       "    </tr>\n",
       "    <tr>\n",
       "      <th>2</th>\n",
       "      <td>NaN</td>\n",
       "      <td>0.018574</td>\n",
       "      <td>1.388235</td>\n",
       "      <td>100_2080.JPG</td>\n",
       "    </tr>\n",
       "    <tr>\n",
       "      <th>3</th>\n",
       "      <td>NaN</td>\n",
       "      <td>0.011001</td>\n",
       "      <td>1.388235</td>\n",
       "      <td>100_2081.JPG</td>\n",
       "    </tr>\n",
       "    <tr>\n",
       "      <th>4</th>\n",
       "      <td>NaN</td>\n",
       "      <td>0.009603</td>\n",
       "      <td>1.235294</td>\n",
       "      <td>100_2086.JPG</td>\n",
       "    </tr>\n",
       "    <tr>\n",
       "      <th>5</th>\n",
       "      <td>NaN</td>\n",
       "      <td>0.006147</td>\n",
       "      <td>0.847059</td>\n",
       "      <td>100_2088.JPG</td>\n",
       "    </tr>\n",
       "    <tr>\n",
       "      <th>6</th>\n",
       "      <td>NaN</td>\n",
       "      <td>0.010713</td>\n",
       "      <td>1.419608</td>\n",
       "      <td>barca20080101_000000__69.JPG</td>\n",
       "    </tr>\n",
       "    <tr>\n",
       "      <th>7</th>\n",
       "      <td>NaN</td>\n",
       "      <td>0.007676</td>\n",
       "      <td>1.035294</td>\n",
       "      <td>barca20080101_000000__81.JPG</td>\n",
       "    </tr>\n",
       "    <tr>\n",
       "      <th>8</th>\n",
       "      <td>NaN</td>\n",
       "      <td>0.028869</td>\n",
       "      <td>1.682353</td>\n",
       "      <td>CIMG0020.JPG</td>\n",
       "    </tr>\n",
       "    <tr>\n",
       "      <th>9</th>\n",
       "      <td>NaN</td>\n",
       "      <td>0.029746</td>\n",
       "      <td>1.713725</td>\n",
       "      <td>CIMG0021.JPG</td>\n",
       "    </tr>\n",
       "  </tbody>\n",
       "</table>\n",
       "</div>"
      ],
      "text/plain": [
       "   Image   Variance      Amax                         Image\n",
       "0     NaN  0.015494  1.294118                  100_1822.jpg\n",
       "1     NaN  0.022073  1.352941                  100_1830.jpg\n",
       "2     NaN  0.018574  1.388235                  100_2080.JPG\n",
       "3     NaN  0.011001  1.388235                  100_2081.JPG\n",
       "4     NaN  0.009603  1.235294                  100_2086.JPG\n",
       "5     NaN  0.006147  0.847059                  100_2088.JPG\n",
       "6     NaN  0.010713  1.419608  barca20080101_000000__69.JPG\n",
       "7     NaN  0.007676  1.035294  barca20080101_000000__81.JPG\n",
       "8     NaN  0.028869  1.682353                  CIMG0020.JPG\n",
       "9     NaN  0.029746  1.713725                  CIMG0021.JPG"
      ]
     },
     "execution_count": 58,
     "metadata": {},
     "output_type": "execute_result"
    }
   ],
   "source": [
    "data1.head(10)"
   ]
  }
 ],
 "metadata": {
  "kernelspec": {
   "display_name": "Python 3",
   "language": "python",
   "name": "python3"
  },
  "language_info": {
   "codemirror_mode": {
    "name": "ipython",
    "version": 3
   },
   "file_extension": ".py",
   "mimetype": "text/x-python",
   "name": "python",
   "nbconvert_exporter": "python",
   "pygments_lexer": "ipython3",
   "version": "3.7.6"
  }
 },
 "nbformat": 4,
 "nbformat_minor": 4
}
